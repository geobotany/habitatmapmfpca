{
 "cells": [
  {
   "cell_type": "code",
   "execution_count": 1,
   "metadata": {},
   "outputs": [
    {
     "name": "stderr",
     "output_type": "stream",
     "text": [
      "Registered S3 methods overwritten by 'tibble':\n",
      "  method     from  \n",
      "  format.tbl pillar\n",
      "  print.tbl  pillar\n",
      "\n",
      "\n",
      "Attaching package: ‘funData’\n",
      "\n",
      "\n",
      "The following object is masked from ‘package:stats’:\n",
      "\n",
      "    integrate\n",
      "\n",
      "\n",
      "Loading required package: sp\n",
      "\n",
      "\n",
      "Attaching package: ‘raster’\n",
      "\n",
      "\n",
      "The following object is masked from ‘package:funData’:\n",
      "\n",
      "    approxNA\n",
      "\n",
      "\n",
      "randomForest 4.6-14\n",
      "\n",
      "Type rfNews() to see new features/changes/bug fixes.\n",
      "\n",
      "Loading required package: lattice\n",
      "\n",
      "Loading required package: ggplot2\n",
      "\n",
      "\n",
      "Attaching package: ‘ggplot2’\n",
      "\n",
      "\n",
      "The following object is masked from ‘package:randomForest’:\n",
      "\n",
      "    margin\n",
      "\n",
      "\n",
      "The following object is masked from ‘package:funData’:\n",
      "\n",
      "    ggplot\n",
      "\n",
      "\n",
      "rgdal: version: 1.5-16, (SVN revision 1050)\n",
      "Geospatial Data Abstraction Library extensions to R successfully loaded\n",
      "Loaded GDAL runtime: GDAL 3.1.2, released 2020/07/07\n",
      "Path to GDAL shared files: /usr/share/gdal\n",
      "GDAL binary built with GEOS: TRUE \n",
      "Loaded PROJ runtime: Rel. 7.1.1, September 1st, 2020, [PJ_VERSION: 711]\n",
      "Path to PROJ shared files: /root/.local/share/proj:/usr/share/proj\n",
      "PROJ CDN enabled: FALSE\n",
      "Linking to sp version:1.4-2\n",
      "To mute warnings of possible GDAL/OSR exportToProj4() degradation,\n",
      "use options(\"rgdal_show_exportToProj4_warnings\"=\"none\") before loading rgdal.\n",
      "\n"
     ]
    }
   ],
   "source": [
    "#R version 3.6.3 (2020-02-29)\n",
    "#loading library used in this work. Version were specified.\n",
    "                     \n",
    "library(fdapace)      #version 0.5.5\n",
    "library(funData)      #version 1.3.5\n",
    "library(MFPCA)        #version 1.3.6\n",
    "library(raster)       #version 3.3.13\n",
    "library(randomForest) #version 4.6.14\n",
    "library(caret)        #version 6.0.86\n",
    "library(rgdal)        #version 1.5.16"
   ]
  },
  {
   "cell_type": "code",
   "execution_count": 2,
   "metadata": {},
   "outputs": [],
   "source": [
    "\n",
    "# Define the file path of the shapefile\n",
    "file.shape <- '/home/data/PESARESI SIMONE/Pesaresi_et_al_2024/Shapefile/TD_CONERO.shp'\n",
    "\n",
    "# Read the shapefile into a spatial object\n",
    "pu <- shapefile(file.shape)\n",
    "\n",
    "# Define the file path of the smoothed time series\n",
    "pathTS <- \"/home/data/PESARESI SIMONE/Pesaresi_et_al_2024/Smoothed_Time_Series/F\"\n"
   ]
  },
  {
   "cell_type": "code",
   "execution_count": 3,
   "metadata": {},
   "outputs": [],
   "source": [
    "#loading function univariate FPCA, multivariate FPCA,\n",
    "#Random Forest (including Random Feature Elimination) \n",
    "#combined in a Forward strategy\n",
    "\n",
    "  source(\"/home/data/PESARESI SIMONE/Pesaresi_et_al_2024/Functions_R/FPCAuni.R\")                  #uFPCA of a time series. it returns FPC scores\n",
    "  source(\"/home/data/PESARESI SIMONE/Pesaresi_et_al_2024/Functions_R/RFforSelFunction.R\")         #MFPCA of a multiple time series. it returns MFPC scores\n",
    "  source(\"/home/data/PESARESI SIMONE/Pesaresi_et_al_2024/Functions_R/FPCAmulti.R\")                #RF with RFE using FPC/MFPC scores as input data\n",
    "  source(\"/home/data/PESARESI SIMONE/Pesaresi_et_al_2024/Functions_R/ForwardSelectionFunction.R\") #it combines uFPCA/MFPCA with RF in forward selectin strategy\n"
   ]
  },
  {
   "cell_type": "code",
   "execution_count": 4,
   "metadata": {},
   "outputs": [
    {
     "name": "stdout",
     "output_type": "stream",
     "text": [
      "[1] \"F01_03_02_00_00_10_BIL.txt (univariate FPCA, RF with RFE of FPCA scores)\"\n",
      "  mtry Accuracy     Kappa AccuracySD   KappaSD                         TS\n",
      "1    1 0.786726 0.6769767 0.08163024 0.1264468 F01_03_02_00_00_10_BIL.txt\n",
      "[1] \"F01_06_02_00_00_10_BIL.txt (univariate FPCA, RF with RFE of FPCA scores)\"\n",
      "  mtry  Accuracy     Kappa AccuracySD  KappaSD                         TS\n",
      "1    1 0.8267798 0.7470286 0.08599664 0.125625 F01_06_02_00_00_10_BIL.txt\n",
      "[1] \"F01_07_02_00_00_10_BIL.txt (univariate FPCA, RF with RFE of FPCA scores)\"\n",
      "  mtry  Accuracy     Kappa AccuracySD   KappaSD                         TS\n",
      "3    3 0.7997708 0.7025775 0.07769677 0.1169242 F01_07_02_00_00_10_BIL.txt\n",
      "[1] \"*****seconda fase multiFPCA*****\"\n",
      "[1] \"F01_06_02_00_00_10_BIL.txt (multivariate FPCA, RF with RFE of FPCA scores)\"\n",
      "[2] \"F01_03_02_00_00_10_BIL.txt (multivariate FPCA, RF with RFE of FPCA scores)\"\n"
     ]
    },
    {
     "name": "stderr",
     "output_type": "stream",
     "text": [
      "Warning message in MFPCA(m.funzioni, M = 36, approx.eigen = FALSE, uniExpansions = lista.exp, :\n",
      "“Function MFPCA: total number of univariate basis functions is smaller than given M. M was set to 21.”\n"
     ]
    },
    {
     "name": "stdout",
     "output_type": "stream",
     "text": [
      "  mtry  Accuracy     Kappa AccuracySD   KappaSD\n",
      "2    2 0.7990209 0.6984542 0.09783886 0.1495305\n",
      "                                                     TS\n",
      "2 F01_06_02_00_00_10_BIL.txt F01_03_02_00_00_10_BIL.txt\n",
      "[1] \"F01_06_02_00_00_10_BIL.txt (multivariate FPCA, RF with RFE of FPCA scores)\"\n",
      "[2] \"F01_07_02_00_00_10_BIL.txt (multivariate FPCA, RF with RFE of FPCA scores)\"\n"
     ]
    },
    {
     "name": "stderr",
     "output_type": "stream",
     "text": [
      "Warning message in MFPCA(m.funzioni, M = 36, approx.eigen = FALSE, uniExpansions = lista.exp, :\n",
      "“Function MFPCA: total number of univariate basis functions is smaller than given M. M was set to 20.”\n"
     ]
    },
    {
     "name": "stdout",
     "output_type": "stream",
     "text": [
      "  mtry  Accuracy     Kappa AccuracySD   KappaSD\n",
      "1    1 0.8349862 0.7512827 0.07483358 0.1158457\n",
      "                                                     TS\n",
      "1 F01_06_02_00_00_10_BIL.txt F01_07_02_00_00_10_BIL.txt\n",
      "[1] \"F01_06_02_00_00_10_BIL.txt (multivariate FPCA, RF with RFE of FPCA scores)\"\n",
      "[2] \"F01_07_02_00_00_10_BIL.txt (multivariate FPCA, RF with RFE of FPCA scores)\"\n",
      "[3] \"F01_03_02_00_00_10_BIL.txt (multivariate FPCA, RF with RFE of FPCA scores)\"\n"
     ]
    },
    {
     "name": "stderr",
     "output_type": "stream",
     "text": [
      "Warning message in MFPCA(m.funzioni, M = 36, approx.eigen = FALSE, uniExpansions = lista.exp, :\n",
      "“Function MFPCA: total number of univariate basis functions is smaller than given M. M was set to 31.”\n"
     ]
    },
    {
     "name": "stdout",
     "output_type": "stream",
     "text": [
      "  mtry  Accuracy     Kappa AccuracySD   KappaSD\n",
      "1    1 0.8267565 0.7394682 0.07496604 0.1161347\n",
      "                                                                                TS\n",
      "1 F01_06_02_00_00_10_BIL.txt F01_07_02_00_00_10_BIL.txt F01_03_02_00_00_10_BIL.txt\n",
      "[1] \"procedura terminata\"\n"
     ]
    }
   ],
   "source": [
    "# Loop over the values in the vector \n",
    "for (var in c('N')) {\n",
    "  # Assign the current value to the variable 'stand'\n",
    "  stand <- var\n",
    "  \n",
    "  # Loop over the values in the vector \"20\"\n",
    "  for (folder in c(\"01\")) {\n",
    "    # Concatenate the path of the smoothed time series and the current folder value\n",
    "    path <- paste(pathTS, folder, sep='')\n",
    "    # Set the working directory to the path\n",
    "    setwd(path)\n",
    "    # List all the files in the directory that end with '.txt' and convert them to a vector\n",
    "    files <- as.vector(list.files(pattern = \"\\\\.txt$\"))\n",
    "    \n",
    "    # Apply the function 'forSelFunzione' to the stand, path, and files arguments and store the result in 'prodotti'\n",
    "    prodotti <- forSelFunzione(stand, path, files)\n",
    "    \n",
    "    # Create a file name for the best time series by concatenating the folder, 'TSsel', and stand values, separated by underscores, and adding the '.txt' extension\n",
    "    nome.bestTS <- paste(paste(folder, 'TSsel', stand, sep='_'), '.txt', sep='')\n",
    "    \n",
    "    # Write the 'TSsel' component of 'prodotti' to a file with the name 'nome.bestTS' in the 'Selected' subdirectory of the smoothed time series directory\n",
    "    write.table(prodotti$TSsel, paste('/home/data/PESARESI SIMONE/Pesaresi_et_al_2024/Smoothed_Time_Series/Selected/F', nome.bestTS, sep=''))\n",
    "    # Write the 'Top' component of 'prodotti' to a file with the name 'folder_TopResult_stand.txt' in the 'Accuracy' subdirectory of the 'Selected' subdirectory\n",
    "    write.table(prodotti$Top, paste('/home/data/PESARESI SIMONE/Pesaresi_et_al_2024/Smoothed_Time_Series/Selected/Accuracy/F', paste(paste(folder, 'TopResult', stand, sep='_'), '.txt', sep=''), sep=''))\n",
    "    # Write the 'All' component of 'prodotti' to a file with the name 'folder_AllResults_stand.txt' in the 'Accuracy' subdirectory of the 'Selected' subdirectory\n",
    "    write.table(prodotti$All, paste('/home/data/PESARESI SIMONE/Pesaresi_et_al_2024/Smoothed_Time_Series/Selected/Accuracy/F', paste(paste(folder, 'AllResults', stand, sep='_'), '.txt', sep=''), sep=''))\n",
    "  }\n",
    "}\n"
   ]
  },
  {
   "cell_type": "code",
   "execution_count": null,
   "metadata": {},
   "outputs": [],
   "source": []
  }
 ],
 "metadata": {
  "kernelspec": {
   "display_name": "R",
   "language": "R",
   "name": "ir"
  },
  "language_info": {
   "codemirror_mode": "r",
   "file_extension": ".r",
   "mimetype": "text/x-r-source",
   "name": "R",
   "pygments_lexer": "r",
   "version": "3.6.3"
  }
 },
 "nbformat": 4,
 "nbformat_minor": 4
}
